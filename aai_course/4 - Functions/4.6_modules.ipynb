{
  "nbformat": 4,
  "nbformat_minor": 0,
  "metadata": {
    "kernelspec": {
      "display_name": "Python 3",
      "language": "python",
      "name": "python3"
    },
    "language_info": {
      "codemirror_mode": {
        "name": "ipython",
        "version": 3
      },
      "file_extension": ".py",
      "mimetype": "text/x-python",
      "name": "python",
      "nbconvert_exporter": "python",
      "pygments_lexer": "ipython3",
      "version": "3.6.1"
    },
    "colab": {
      "name": "6_modules.ipynb",
      "provenance": []
    }
  },
  "cells": [
    {
      "cell_type": "markdown",
      "metadata": {
        "id": "NDrXKN-NHeYR"
      },
      "source": [
        "# Modules"
      ]
    },
    {
      "cell_type": "markdown",
      "metadata": {
        "id": "i0AVpPtvHeYU"
      },
      "source": [
        "Modules refer to a file containing Python statements and definitions.\n",
        "\n",
        "A file containing Python code, for e.g.: abc.py, is called a module and its module name would be \"abc\"."
      ]
    },
    {
      "cell_type": "markdown",
      "metadata": {
        "id": "Cncmoy9XHeYW"
      },
      "source": [
        "We use modules to break down large programs into small manageable and organized files. Furthermore, modules provide reusability of code.\n",
        "\n",
        "We can define our most used functions in a module and import it, instead of copying their definitions into different programs."
      ]
    },
    {
      "cell_type": "markdown",
      "metadata": {
        "id": "OMq5zEJZHeYY"
      },
      "source": [
        "# How to import a module?"
      ]
    },
    {
      "cell_type": "markdown",
      "metadata": {
        "id": "-BZo1veLHeYa"
      },
      "source": [
        "We use the import keyword to do this."
      ]
    },
    {
      "cell_type": "code",
      "metadata": {
        "id": "LkdtsKI-HeYb",
        "colab": {
          "base_uri": "https://localhost:8080/",
          "height": 296
        },
        "outputId": "e7b4062a-20c1-45ea-a023-bf0da8df5d63"
      },
      "source": [
        "import example #imported example module\n"
      ],
      "execution_count": null,
      "outputs": [
        {
          "output_type": "error",
          "ename": "ModuleNotFoundError",
          "evalue": "ignored",
          "traceback": [
            "\u001b[0;31m---------------------------------------------------------------------------\u001b[0m",
            "\u001b[0;31mModuleNotFoundError\u001b[0m                       Traceback (most recent call last)",
            "\u001b[0;32m<ipython-input-1-b0fe4c474e13>\u001b[0m in \u001b[0;36m<module>\u001b[0;34m()\u001b[0m\n\u001b[0;32m----> 1\u001b[0;31m \u001b[0;32mimport\u001b[0m \u001b[0mexample\u001b[0m \u001b[0;31m#imported example module\u001b[0m\u001b[0;34m\u001b[0m\u001b[0;34m\u001b[0m\u001b[0m\n\u001b[0m",
            "\u001b[0;31mModuleNotFoundError\u001b[0m: No module named 'example'",
            "",
            "\u001b[0;31m---------------------------------------------------------------------------\u001b[0;32m\nNOTE: If your import is failing due to a missing package, you can\nmanually install dependencies using either !pip or !apt.\n\nTo view examples of installing some common dependencies, click the\n\"Open Examples\" button below.\n\u001b[0;31m---------------------------------------------------------------------------\u001b[0m\n"
          ]
        }
      ]
    },
    {
      "cell_type": "markdown",
      "metadata": {
        "id": "8QYfvfCiHeYh"
      },
      "source": [
        "Using the module name we can access the function using dot (.) operation."
      ]
    },
    {
      "cell_type": "code",
      "metadata": {
        "id": "4aS7F29GHeYk",
        "outputId": "6283c968-e7a6-4450-de6a-94abff22feff"
      },
      "source": [
        "example.add(10, 20)\n"
      ],
      "execution_count": null,
      "outputs": [
        {
          "output_type": "execute_result",
          "data": {
            "text/plain": [
              "30"
            ]
          },
          "metadata": {
            "tags": []
          },
          "execution_count": 3
        }
      ]
    },
    {
      "cell_type": "markdown",
      "metadata": {
        "id": "UzrMkOH9HeYs"
      },
      "source": [
        "Python has a lot of standard modules available.\n",
        "\n",
        "https://docs.python.org/3/py-modindex.html "
      ]
    },
    {
      "cell_type": "markdown",
      "metadata": {
        "id": "k-zR_tU7HeYs"
      },
      "source": [
        "# Examples:"
      ]
    },
    {
      "cell_type": "code",
      "metadata": {
        "id": "dRUqBrXjHeYt",
        "outputId": "add83409-8085-4540-b91b-be5580a6a8c3"
      },
      "source": [
        "import math\n",
        "print(math.pi)\n"
      ],
      "execution_count": null,
      "outputs": [
        {
          "output_type": "stream",
          "text": [
            "3.141592653589793\n"
          ],
          "name": "stdout"
        }
      ]
    },
    {
      "cell_type": "code",
      "metadata": {
        "id": "wr-Jyr-cHeY1",
        "outputId": "438ed43d-8c18-4da3-e929-1c4c1676ba5c"
      },
      "source": [
        "import datetime\n",
        "datetime.datetime.now()\n"
      ],
      "execution_count": null,
      "outputs": [
        {
          "output_type": "execute_result",
          "data": {
            "text/plain": [
              "datetime.datetime(2017, 10, 18, 20, 47, 20, 606228)"
            ]
          },
          "metadata": {
            "tags": []
          },
          "execution_count": 6
        }
      ]
    },
    {
      "cell_type": "markdown",
      "metadata": {
        "id": "34mCV3oJHeY4"
      },
      "source": [
        "# import with renaming"
      ]
    },
    {
      "cell_type": "code",
      "metadata": {
        "id": "BljTPvmRHeY5",
        "outputId": "c1213478-fa22-4cc8-cc8a-d6073e5afb1d"
      },
      "source": [
        "import math as m\n",
        "print(m.pi)\n"
      ],
      "execution_count": null,
      "outputs": [
        {
          "output_type": "stream",
          "text": [
            "3.141592653589793\n"
          ],
          "name": "stdout"
        }
      ]
    },
    {
      "cell_type": "markdown",
      "metadata": {
        "id": "Yck3dGWaHeY-"
      },
      "source": [
        "# from...import statement"
      ]
    },
    {
      "cell_type": "markdown",
      "metadata": {
        "id": "PgxZkgecHeY_"
      },
      "source": [
        "We can import specific names form a module without importing the module as a whole."
      ]
    },
    {
      "cell_type": "code",
      "metadata": {
        "id": "SAgwJxMuHeZA",
        "outputId": "1c5c83bd-525f-483d-95dd-5813d922912b"
      },
      "source": [
        "from datetime import datetime \n",
        "datetime.now()\n"
      ],
      "execution_count": null,
      "outputs": [
        {
          "output_type": "execute_result",
          "data": {
            "text/plain": [
              "datetime.datetime(2017, 10, 18, 20, 47, 38, 17242)"
            ]
          },
          "metadata": {
            "tags": []
          },
          "execution_count": 9
        }
      ]
    },
    {
      "cell_type": "markdown",
      "metadata": {
        "id": "3FKKbMKCHeZL"
      },
      "source": [
        "# import all names"
      ]
    },
    {
      "cell_type": "code",
      "metadata": {
        "id": "OvEe2dxZHeZM",
        "outputId": "42a14832-f267-4af1-b712-79c1d099a760"
      },
      "source": [
        "from math import *\n",
        "print(\"Value of PI is \" + str(pi))\n"
      ],
      "execution_count": null,
      "outputs": [
        {
          "output_type": "stream",
          "text": [
            "Value of PI is 3.141592653589793\n"
          ],
          "name": "stdout"
        }
      ]
    },
    {
      "cell_type": "markdown",
      "metadata": {
        "id": "dPVCLPyQHeZR"
      },
      "source": [
        "# dir() built in function"
      ]
    },
    {
      "cell_type": "markdown",
      "metadata": {
        "id": "EPRn9wTiHeZT"
      },
      "source": [
        "We can use the dir() function to find out names that are defined inside a module."
      ]
    },
    {
      "cell_type": "code",
      "metadata": {
        "id": "T9PeK-KxHeZX",
        "outputId": "ecdf1d42-e747-4e27-9a5a-5811ea885c97"
      },
      "source": [
        "dir(example)\n"
      ],
      "execution_count": null,
      "outputs": [
        {
          "output_type": "execute_result",
          "data": {
            "text/plain": [
              "['__builtins__',\n",
              " '__cached__',\n",
              " '__doc__',\n",
              " '__file__',\n",
              " '__loader__',\n",
              " '__name__',\n",
              " '__package__',\n",
              " '__spec__',\n",
              " 'add']"
            ]
          },
          "metadata": {
            "tags": []
          },
          "execution_count": 11
        }
      ]
    },
    {
      "cell_type": "code",
      "metadata": {
        "id": "1vvA0aSwHeZb",
        "outputId": "61b9e1ff-5334-4103-8a62-b4e40ae61002"
      },
      "source": [
        "print(example.add.__doc__)\n"
      ],
      "execution_count": null,
      "outputs": [
        {
          "output_type": "stream",
          "text": [
            "\n",
            "    This program adds two numbers and return the result\n",
            "    \n"
          ],
          "name": "stdout"
        }
      ]
    }
  ]
}