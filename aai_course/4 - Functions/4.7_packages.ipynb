{
  "nbformat": 4,
  "nbformat_minor": 0,
  "metadata": {
    "kernelspec": {
      "display_name": "Python 3",
      "language": "python",
      "name": "python3"
    },
    "language_info": {
      "codemirror_mode": {
        "name": "ipython",
        "version": 3
      },
      "file_extension": ".py",
      "mimetype": "text/x-python",
      "name": "python",
      "nbconvert_exporter": "python",
      "pygments_lexer": "ipython3",
      "version": "3.6.1"
    },
    "colab": {
      "name": "packages.ipynb",
      "provenance": []
    }
  },
  "cells": [
    {
      "cell_type": "markdown",
      "metadata": {
        "id": "vEbXrM3j-xFv"
      },
      "source": [
        "# Package"
      ]
    },
    {
      "cell_type": "markdown",
      "metadata": {
        "id": "QptBTxs9-xFy"
      },
      "source": [
        "Packages are a way of structuring Python’s module namespace by using “dotted module names”.\n",
        "\n",
        "A directory must contain a file named __init__.py in order for Python to consider it as a package. This file can be left empty but we generally place the initialization code for that package in this file."
      ]
    },
    {
      "cell_type": "markdown",
      "metadata": {
        "id": "X_G0JyKO-xFz"
      },
      "source": [
        "![title](package.jpg)"
      ]
    },
    {
      "cell_type": "markdown",
      "metadata": {
        "id": "LV1tybNj-xF0"
      },
      "source": [
        "# importing module from a package"
      ]
    },
    {
      "cell_type": "markdown",
      "metadata": {
        "id": "EzGqoQuL-xF0"
      },
      "source": [
        "We can import modules from packages using the dot (.) operator."
      ]
    },
    {
      "cell_type": "code",
      "metadata": {
        "collapsed": true,
        "id": "SUwApXW6-xF1"
      },
      "source": [
        "# import Gate.Image.open "
      ],
      "execution_count": null,
      "outputs": []
    }
  ]
}