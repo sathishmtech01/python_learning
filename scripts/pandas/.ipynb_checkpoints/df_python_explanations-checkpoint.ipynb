{
 "cells": [
  {
   "cell_type": "code",
   "execution_count": 1,
   "metadata": {},
   "outputs": [
    {
     "name": "stdout",
     "output_type": "stream",
     "text": [
      "                   A         B         C         D\n",
      "2013-01-01  0.941534 -0.482751  0.519183 -1.859234\n",
      "2013-01-02  1.825838 -0.161677 -0.265353 -1.004164\n",
      "2013-01-03  0.721283 -1.265860  1.099496  0.315278\n",
      "2013-01-04  1.172413 -0.261394 -0.029303 -0.777167\n",
      "2013-01-05  0.959279 -0.108792  1.157102 -0.446817\n",
      "2013-01-06 -0.066476  0.815807  0.329447 -0.279954\n"
     ]
    }
   ],
   "source": [
    "# pandas is sql table form datastructure\n",
    "import pandas as pd\n",
    "# numpy is a multidimentional array\n",
    "import numpy as np\n",
    "\n",
    "# 1. Object creation\n",
    "# creating series\n",
    "series = pd.Series([1,3,5,np.nan,6,8])\n",
    "#print(series)\n",
    "\n",
    "# creating datetime index using dataframe\n",
    "dates = pd.date_range('20130101',periods=6)\n",
    "#print(dates)\n",
    "#print(np.random.randn(6,4))\n",
    "# creating data frame\n",
    "df = pd.DataFrame(np.random.randn(6,4), index=dates, columns=list('ABCD'))\n",
    "print(df)"
   ]
  },
  {
   "cell_type": "code",
   "execution_count": 2,
   "metadata": {},
   "outputs": [
    {
     "data": {
      "text/plain": [
       "A    0.925645\n",
       "B   -0.244111\n",
       "C    0.468429\n",
       "D   -0.675343\n",
       "dtype: float64"
      ]
     },
     "execution_count": 2,
     "metadata": {},
     "output_type": "execute_result"
    }
   ],
   "source": [
    "df.mean()"
   ]
  },
  {
   "cell_type": "code",
   "execution_count": 3,
   "metadata": {},
   "outputs": [
    {
     "data": {
      "text/plain": [
       "A    0.925645\n",
       "B   -0.244111\n",
       "C    0.468429\n",
       "D   -0.675343\n",
       "dtype: float64"
      ]
     },
     "execution_count": 3,
     "metadata": {},
     "output_type": "execute_result"
    }
   ],
   "source": [
    "# 0 - columnise operations\n",
    "df.mean(0)"
   ]
  },
  {
   "cell_type": "code",
   "execution_count": 4,
   "metadata": {},
   "outputs": [
    {
     "data": {
      "text/plain": [
       "2013-01-01   -0.220317\n",
       "2013-01-02    0.098661\n",
       "2013-01-03    0.217549\n",
       "2013-01-04    0.026137\n",
       "2013-01-05    0.390193\n",
       "2013-01-06    0.199706\n",
       "Freq: D, dtype: float64"
      ]
     },
     "execution_count": 4,
     "metadata": {},
     "output_type": "execute_result"
    }
   ],
   "source": [
    "# 1 - rowise operations\n",
    "df.mean(1)"
   ]
  },
  {
   "cell_type": "code",
   "execution_count": 6,
   "metadata": {},
   "outputs": [
    {
     "name": "stdout",
     "output_type": "stream",
     "text": [
      "2013-01-01    NaN\n",
      "2013-01-02    1.0\n",
      "2013-01-03    3.0\n",
      "2013-01-04    5.0\n",
      "2013-01-05    NaN\n",
      "2013-01-06    6.0\n",
      "Freq: D, dtype: float64\n",
      "                   A         B         C         D\n",
      "2013-01-01  0.941534 -0.482751  0.519183 -1.859234\n",
      "2013-01-02  1.825838 -0.161677 -0.265353 -1.004164\n",
      "2013-01-03  0.721283 -1.265860  1.099496  0.315278\n",
      "2013-01-04  1.172413 -0.261394 -0.029303 -0.777167\n",
      "2013-01-05  0.959279 -0.108792  1.157102 -0.446817\n",
      "2013-01-06 -0.066476  0.815807  0.329447 -0.279954\n",
      "                   A         B         C         D\n",
      "2013-01-01       NaN       NaN       NaN       NaN\n",
      "2013-01-02  0.825838 -1.161677 -1.265353 -2.004164\n",
      "2013-01-03 -2.278717 -4.265860 -1.900504 -2.684722\n",
      "2013-01-04 -3.827587 -5.261394 -5.029303 -5.777167\n",
      "2013-01-05       NaN       NaN       NaN       NaN\n",
      "2013-01-06 -6.066476 -5.184193 -5.670553 -6.279954\n"
     ]
    }
   ],
   "source": [
    "s = pd.Series([1,3,5,np.nan,6,8], index=dates).shift(1)\n",
    "print(s)\n",
    "print(df)\n",
    "print(df.sub(s, axis='index'))"
   ]
  },
  {
   "cell_type": "code",
   "execution_count": 41,
   "metadata": {},
   "outputs": [
    {
     "name": "stdout",
     "output_type": "stream",
     "text": [
      "2013-01-01   -0.220317\n",
      "2013-01-02    0.098661\n",
      "2013-01-03    0.217549\n",
      "2013-01-04    0.026137\n",
      "2013-01-05    0.390193\n",
      "2013-01-06    0.199706\n",
      "Freq: D, dtype: float64\n",
      "A    0.925645\n",
      "B   -0.244111\n",
      "C    0.468429\n",
      "D   -0.675343\n",
      "dtype: float64\n",
      "A    1.892314\n",
      "B    2.081667\n",
      "C    1.422454\n",
      "D    2.174512\n",
      "dtype: float64\n"
     ]
    }
   ],
   "source": [
    "# apply\n",
    "print(df.apply(np.mean,axis=1))\n",
    "print(df.apply(np.mean,axis=0))\n",
    "#print(df[\"A\"].apply(np.mean,axis=0))\n",
    "\n",
    "print(df.apply(lambda x: x.max() - x.min()))\n"
   ]
  },
  {
   "cell_type": "code",
   "execution_count": 25,
   "metadata": {},
   "outputs": [
    {
     "data": {
      "text/plain": [
       "2013-01-01    100.941534\n",
       "2013-01-02    101.825838\n",
       "2013-01-03    100.721283\n",
       "2013-01-04    101.172413\n",
       "2013-01-05    100.959279\n",
       "2013-01-06     99.933524\n",
       "Freq: D, Name: A, dtype: float64"
      ]
     },
     "execution_count": 25,
     "metadata": {},
     "output_type": "execute_result"
    }
   ],
   "source": [
    "def addition(x):\n",
    "    return x+100\n",
    "\n",
    "df[\"A\"].apply(lambda x: addition(x))"
   ]
  },
  {
   "cell_type": "code",
   "execution_count": 49,
   "metadata": {},
   "outputs": [
    {
     "name": "stdout",
     "output_type": "stream",
     "text": [
      "                   A         B         C         D\n",
      "2013-01-01  0.941534 -0.482751  0.519183 -1.859234\n",
      "2013-01-02  1.825838 -0.161677 -0.265353 -1.004164\n",
      "2013-01-03  0.721283 -1.265860  1.099496  0.315278\n",
      "2013-01-04  1.172413 -0.261394 -0.029303 -0.777167\n",
      "2013-01-05  0.959279 -0.108792  1.157102 -0.446817\n",
      "2013-01-06 -0.066476  0.815807  0.329447 -0.279954\n",
      "2013-01-01    0.941534\n",
      "2013-01-02    1.825838\n",
      "2013-01-03    0.721283\n",
      "2013-01-04    1.172413\n",
      "2013-01-05    0.959279\n",
      "2013-01-06   -0.066476\n",
      "Freq: D, Name: A, dtype: float64\n",
      "1.8258378774638238\n",
      "2013-01-01   -0.482751\n",
      "2013-01-02   -0.161677\n",
      "2013-01-03   -1.265860\n",
      "2013-01-04   -0.261394\n",
      "2013-01-05   -0.108792\n",
      "2013-01-06    0.815807\n",
      "Freq: D, Name: B, dtype: float64\n",
      "0.8158071811184547\n",
      "2013-01-01    0.519183\n",
      "2013-01-02   -0.265353\n",
      "2013-01-03    1.099496\n",
      "2013-01-04   -0.029303\n",
      "2013-01-05    1.157102\n",
      "2013-01-06    0.329447\n",
      "Freq: D, Name: C, dtype: float64\n",
      "1.157101767100459\n",
      "2013-01-01   -1.859234\n",
      "2013-01-02   -1.004164\n",
      "2013-01-03    0.315278\n",
      "2013-01-04   -0.777167\n",
      "2013-01-05   -0.446817\n",
      "2013-01-06   -0.279954\n",
      "Freq: D, Name: D, dtype: float64\n",
      "0.3152779286706415\n",
      "A    1.825838\n",
      "B    0.815807\n",
      "C    1.157102\n",
      "D    0.315278\n",
      "dtype: float64\n"
     ]
    }
   ],
   "source": [
    "print(df)\n",
    "def test(x):\n",
    "    print(x)\n",
    "    print(max(x.values))\n",
    "    return max(x.values)\n",
    "\n",
    "# apply rowise\n",
    "print(df.apply(test,axis=0))\n",
    "# apply columnwise\n",
    "print(df.apply(test,axis=1))\n",
    "#print(df.apply(np.mean,axis=0))"
   ]
  },
  {
   "cell_type": "code",
   "execution_count": 52,
   "metadata": {},
   "outputs": [
    {
     "name": "stdout",
     "output_type": "stream",
     "text": [
      "          0         1         2         3\n",
      "0  0.628866 -1.075114 -0.828322 -0.686112\n",
      "1 -0.094795 -0.500364 -0.572944  0.102125\n",
      "2  0.314068  0.596626  0.743718  1.179606\n",
      "3  0.226289  0.147885 -0.441105 -0.667055\n",
      "4  0.274032  1.900671 -0.406988 -1.220136\n",
      "5 -2.034755 -0.265424  0.544784  1.588317\n",
      "6 -0.496484  1.138541 -0.519363  0.097761\n",
      "7 -2.407985  0.270407  1.258427  1.531042\n",
      "8  1.598020  2.081670  1.587890 -1.155551\n",
      "9 -0.483241 -1.887247  0.272494 -0.815151\n",
      "[          0         1         2         3\n",
      "0  0.628866 -1.075114 -0.828322 -0.686112\n",
      "1 -0.094795 -0.500364 -0.572944  0.102125\n",
      "2  0.314068  0.596626  0.743718  1.179606,           0         1         2         3\n",
      "7 -2.407985  0.270407  1.258427  1.531042\n",
      "8  1.598020  2.081670  1.587890 -1.155551\n",
      "9 -0.483241 -1.887247  0.272494 -0.815151,           0         1         2         3\n",
      "3  0.226289  0.147885 -0.441105 -0.667055\n",
      "4  0.274032  1.900671 -0.406988 -1.220136\n",
      "5 -2.034755 -0.265424  0.544784  1.588317\n",
      "6 -0.496484  1.138541 -0.519363  0.097761,    key  lval\n",
      "0  foo     1\n",
      "1  bar     2]\n",
      "          0         1         2         3  key  lval\n",
      "0  0.628866 -1.075114 -0.828322 -0.686112  NaN   NaN\n",
      "1 -0.094795 -0.500364 -0.572944  0.102125  NaN   NaN\n",
      "2  0.314068  0.596626  0.743718  1.179606  NaN   NaN\n",
      "7 -2.407985  0.270407  1.258427  1.531042  NaN   NaN\n",
      "8  1.598020  2.081670  1.587890 -1.155551  NaN   NaN\n",
      "9 -0.483241 -1.887247  0.272494 -0.815151  NaN   NaN\n",
      "3  0.226289  0.147885 -0.441105 -0.667055  NaN   NaN\n",
      "4  0.274032  1.900671 -0.406988 -1.220136  NaN   NaN\n",
      "5 -2.034755 -0.265424  0.544784  1.588317  NaN   NaN\n",
      "6 -0.496484  1.138541 -0.519363  0.097761  NaN   NaN\n",
      "0       NaN       NaN       NaN       NaN  foo   1.0\n",
      "1       NaN       NaN       NaN       NaN  bar   2.0\n"
     ]
    }
   ],
   "source": [
    "# pandas is sql table form datastructure\n",
    "import pandas as pd\n",
    "# numpy is a multidimentional array\n",
    "import numpy as np\n",
    "\n",
    "df = pd.DataFrame(np.random.randn(10, 4))\n",
    "print(df)\n",
    "\n",
    "# break it into pieces\n",
    "# first 3 rows, then 7+ and 3 to 7\n",
    "pieces = [df[:3], df[7:], df[3:7],\n",
    "          pd.DataFrame({'key': ['foo', 'bar'], 'lval': [1, 2]})]\n",
    "print(pieces)\n",
    "# concat\n",
    "print(pd.concat(pieces))\n",
    "\n"
   ]
  },
  {
   "cell_type": "code",
   "execution_count": 64,
   "metadata": {},
   "outputs": [
    {
     "name": "stdout",
     "output_type": "stream",
     "text": [
      "   key  lval\n",
      "0  foo     1\n",
      "1  bar     2\n",
      "    key  rval\n",
      "0  foo1     4\n",
      "1  bar1     5\n",
      "Empty DataFrame\n",
      "Columns: [key, lval, rval]\n",
      "Index: []\n",
      "   key  lval  rval\n",
      "0  foo     1   NaN\n",
      "1  bar     2   NaN\n",
      "    key  lval  rval\n",
      "0  foo1   NaN     4\n",
      "1  bar1   NaN     5\n",
      "    key  lval  rval\n",
      "0   foo   1.0   NaN\n",
      "1   bar   2.0   NaN\n",
      "2  foo1   NaN   4.0\n",
      "3  bar1   NaN   5.0\n"
     ]
    }
   ],
   "source": [
    "# join\n",
    "\n",
    "#left = pd.DataFrame({'key': ['foo', 'foo'], 'lval': [1, 2]})\n",
    "#right = pd.DataFrame({'key': ['foo', 'foo'], 'rval': [4, 5]})\n",
    "left = pd.DataFrame({'key': ['foo', 'bar'], 'lval': [1, 2]})\n",
    "right = pd.DataFrame({'key': ['foo1', 'bar1'], 'rval': [4, 5]})\n",
    "\n",
    "\n",
    "print(left)\n",
    "print(right)\n",
    "\n",
    "# default inner join\n",
    "print(pd.merge(left, right, on='key'))\n",
    "print(pd.merge(left, right, on='key',how='inner'))\n",
    "print(pd.merge(left, right, on='key',how='left'))\n",
    "print(pd.merge(left, right, on='key',how='right'))\n",
    "print(pd.merge(left, right, on='key',how='outer'))\n"
   ]
  },
  {
   "cell_type": "code",
   "execution_count": 68,
   "metadata": {},
   "outputs": [
    {
     "name": "stdout",
     "output_type": "stream",
     "text": [
      "          A         B         C         D\n",
      "0 -2.660287 -2.379000 -0.062225  0.582628\n",
      "1 -0.149831  0.253296 -0.984756 -0.679105\n",
      "2  0.321697  1.838803 -0.616175  1.094114\n",
      "3  0.834661 -1.871496  0.616778  0.613517\n",
      "4  0.385308 -0.750248  0.984767 -0.448200\n",
      "5  0.420083  0.534010  1.016282  0.651563\n",
      "6  0.493739 -1.192512  0.031299  0.084870\n",
      "7 -1.270986 -2.222635  1.678915 -0.344838\n",
      "A    0.834661\n",
      "B   -1.871496\n",
      "C    0.616778\n",
      "D    0.613517\n",
      "Name: 3, dtype: float64\n",
      "          A         B         C         D\n",
      "0 -2.660287 -2.379000 -0.062225  0.582628\n",
      "1 -0.149831  0.253296 -0.984756 -0.679105\n",
      "2  0.321697  1.838803 -0.616175  1.094114\n",
      "3  0.834661 -1.871496  0.616778  0.613517\n",
      "4  0.385308 -0.750248  0.984767 -0.448200\n",
      "5  0.420083  0.534010  1.016282  0.651563\n",
      "6  0.493739 -1.192512  0.031299  0.084870\n",
      "7 -1.270986 -2.222635  1.678915 -0.344838\n",
      "8  0.834661 -1.871496  0.616778  0.613517\n"
     ]
    }
   ],
   "source": [
    "# appending a data \n",
    "df = pd.DataFrame(np.random.randn(8, 4), columns=['A','B','C','D'])\n",
    "print(df)\n",
    "s = df.iloc[3]\n",
    "print(s)\n",
    "# reseting the index :ignore_index\n",
    "print(df.append(s, ignore_index=True))"
   ]
  },
  {
   "cell_type": "code",
   "execution_count": 69,
   "metadata": {},
   "outputs": [
    {
     "name": "stdout",
     "output_type": "stream",
     "text": [
      "     A      B         C         D\n",
      "0  foo    one  1.383277 -1.484545\n",
      "1  bar    one -1.424376  0.413183\n",
      "2  foo    two -1.113758  0.140063\n",
      "3  bar  three -0.606830  1.441949\n",
      "4  foo    two -0.859273 -1.312522\n",
      "5  bar    two -0.115491  0.606907\n",
      "6  foo    one  1.348787  0.330764\n",
      "7  foo  three -0.627485  0.224327\n",
      "            C         D\n",
      "A                      \n",
      "bar -2.146697  2.462038\n",
      "foo  0.131548 -2.101914\n",
      "                  C         D\n",
      "A   B                        \n",
      "bar one   -1.424376  0.413183\n",
      "    three -0.606830  1.441949\n",
      "    two   -0.115491  0.606907\n",
      "foo one    2.732064 -1.153781\n",
      "    three -0.627485  0.224327\n",
      "    two   -1.973031 -1.172459\n"
     ]
    }
   ],
   "source": [
    "# Aggregation\n",
    "df = pd.DataFrame({'A' : ['foo', 'bar', 'foo', 'bar',\n",
    "                             'foo', 'bar', 'foo', 'foo'],\n",
    "                      'B' : ['one', 'one', 'two', 'three',\n",
    "                             'two', 'two', 'one', 'three'],\n",
    "                      'C' : np.random.randn(8),\n",
    "                      'D' : np.random.randn(8)})\n",
    "\n",
    "print(df)\n",
    "\n",
    "print(df.groupby('A').sum())\n",
    "print(df.groupby(['A','B']).sum())"
   ]
  },
  {
   "cell_type": "code",
   "execution_count": null,
   "metadata": {},
   "outputs": [],
   "source": []
  }
 ],
 "metadata": {
  "kernelspec": {
   "display_name": "Python 3",
   "language": "python",
   "name": "python3"
  },
  "language_info": {
   "codemirror_mode": {
    "name": "ipython",
    "version": 3
   },
   "file_extension": ".py",
   "mimetype": "text/x-python",
   "name": "python",
   "nbconvert_exporter": "python",
   "pygments_lexer": "ipython3",
   "version": "3.6.4"
  }
 },
 "nbformat": 4,
 "nbformat_minor": 1
}
